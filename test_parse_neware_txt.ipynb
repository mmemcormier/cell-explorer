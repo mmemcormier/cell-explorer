{
 "cells": [
  {
   "cell_type": "code",
   "execution_count": 74,
   "metadata": {},
   "outputs": [],
   "source": [
    "import pandas as pd\n",
    "import numpy as np\n",
    "import re\n",
    "import magic\n",
    "from reader import read_raw"
   ]
  },
  {
   "cell_type": "code",
   "execution_count": 75,
   "metadata": {},
   "outputs": [],
   "source": [
    "p = '/home/mmemc/projects/expt/volt_curves_from_neware'"
   ]
  },
  {
   "cell_type": "code",
   "execution_count": 77,
   "metadata": {},
   "outputs": [
    {
     "name": "stdout",
     "output_type": "stream",
     "text": [
      "us-ascii\n"
     ]
    }
   ],
   "source": [
    "blob = open('{}/RON_CYC_104481_Nw_c0_435V_40C_C3C3_191028_FM_435V_211PES_54910_09_7.txt'.format(p), 'rb').read()\n",
    "\n",
    "m = magic.Magic(mime_encoding=True)\n",
    "encoding = m.from_buffer(blob)\n",
    "print(encoding)"
   ]
  },
  {
   "cell_type": "code",
   "execution_count": 78,
   "metadata": {},
   "outputs": [
    {
     "name": "stdout",
     "output_type": "stream",
     "text": [
      "Cycle_ID\tCap_Chg(mAh)\tCap_DChg(mAh)\tRCap_Chg(mAh/g)\tRCap_DChg(mAh/g)\tEfficiency(%)\tEngy_Chg(mWh)\tEngy_DChg(mWh)\tMid-value_Voltage(mV)\tCC_Chg_Cap(mAh)\tCC_Chg_Rat(%)\tPlatform_Cap(mAh)\tPlatform_RCap(mAh/g)\tPlatform_Efficiency(%)\tPlatform_Time\tCapacitance_Chg(F)\tCapacitance_DChg(F)\trd(mO)\tREngy_Chg(mWh/g)\tREngy_DChg(mWh/g)\tEnergy_Efficiency(%)\t\n",
      "\n",
      "Cycle line length: 21\n",
      "\tStep_ID\tStep_Type\tStep_Time(H:M:S:ms)\tCap(mAh)\tCmpCap(mAh/g)\tEnergy(mWh)\tCmpEng(mWh/g)\tCapacitance_Chg(F)\tStart_Vol(mV)\tEnd_Vol(mV)\tStart_Temperature(?)\tEnd_Temperature(?)\t\n",
      "\n",
      "Step line length: 12\n",
      "\t\tRecord_ID\tTime(H:M:S:ms)\tVol(mV)\tCur(mA)\tTemperature(?)\tCap(mAh)\tCmpCap(mAh/g)\tEnergy(mWh)\tCmpEng(mWh/g)\tRealtime\t\n",
      "\n",
      "Record line length: 10\n"
     ]
    }
   ],
   "source": [
    "f1 = '{}/RON_CYC_104481_Nw_c0_435V_40C_C3C3_191028_FM_435V_211PES_54910_09_7.txt'.format(p)\n",
    "with open(f1, 'r', encoding='us-ascii') as f:\n",
    "    lines = f.readlines()\n",
    "cyclabels = lines[0].replace(' ', '_')\n",
    "steplabels = lines[1].replace(' ', '_')\n",
    "reclabels = lines[2].replace(' ', '_')\n",
    "cyclnlen = len(cyclabels.strip().split())\n",
    "steplnlen = len(steplabels.strip().split())\n",
    "reclnlen = len(reclabels.strip().split())\n",
    "print(cyclabels)\n",
    "print('Cycle line length: {}'.format(cyclnlen))\n",
    "print(steplabels)\n",
    "print('Step line length: {}'.format(steplnlen))\n",
    "print(reclabels)\n",
    "print('Record line length: {}'.format(reclnlen))"
   ]
  },
  {
   "cell_type": "code",
   "execution_count": 68,
   "metadata": {},
   "outputs": [
    {
     "name": "stdout",
     "output_type": "stream",
     "text": [
      "['Cycle_ID', 'Cap_Chg(mAh)', 'Cap_DChg(mAh)', 'Specific_Capacity-Chg(mAh/g)', 'Specific_Capacity-Dchg(mAh/g)', 'Chg/DChg_Efficiency(%)', 'Engy_Chg(mWh)', 'Engy_DChg(mWh)', 'REngy_Chg(mWh/g)', 'REngy_Dchg(mWh/g)', 'CC_Chg_Ratio(%)', 'CC_Chg_Cap(mAh)', 'Plat_Cap(mAh)', 'Plat_Capacity_Density(mAh/g)', 'Plat_Cap_Efficiency(%)', 'Plat_Time(h:min:s.ms)', 'Capacity_Chg(F)', 'Capacity_DChg(F)', 'IR(O)', 'Mid_value_Voltage(mV)', 'Discharge_Fading_Ratio(%)', 'Charge_Time(h:min:s.ms)', 'Discharge_Time(h:min:s.ms)', 'Charge_IR(O)', 'Discharge_IR(O)', 'End_Temperature(°C)', 'Net_Cap_DChg(mAh)', 'Net_Engy_DChg(mWh)', 'Energy_Efficiency(%)']\n"
     ]
    }
   ],
   "source": [
    "f2 = '{}/RON_CYC_141764_Nw_c0_C3C3_46V_40C_200309_PES211_FM_47V_b54918_127.0.0.1_240213_7_7.txt'.format(p)\n",
    "with open(f2, 'r', encoding='windows-1250') as f:\n",
    "    lines = f.readlines()\n",
    "cyclabels = lines[0].replace(' ', '_')\n",
    "clabels = cyclabels.strip().split()\n",
    "steplabels = lines[1].replace(' ', '_')\n",
    "reclabels = lines[2].replace(' ', '_')\n",
    "cyclnlen = len(clabels)\n",
    "\n",
    "\n",
    "steplnlen = len(steplabels.strip().split())\n",
    "reclnlen = len(reclabels.strip().split())\n",
    "#print(clabels)\n",
    "#print('Cycle line length: {}'.format(cyclnlen))\n",
    "\n",
    "cyclabels2 = re.sub(r'(\\w+) (\\w+)', r'\\1_\\2', lines[0])\n",
    "cyclabels2 = re.sub(r'(\\w+) (\\w+)', r'\\1_\\2', cyclabels2)\n",
    "clabels2 = cyclabels2.strip().split()\n",
    "print(clabels2)\n",
    "\n",
    "#print(cyclabels2)\n",
    "#print('Cycle line length: {}'.format(cyclnlen2))\n",
    "#for l in clabels2:\n",
    "#    if l not in clabels:\n",
    "#        print(l)\n",
    "\n",
    "#print(steplabels)\n",
    "#print('Step line length: {}'.format(steplnlen))\n",
    "#print(reclabels)\n",
    "#print('Record line length: {}'.format(reclnlen))"
   ]
  },
  {
   "cell_type": "code",
   "execution_count": 53,
   "metadata": {},
   "outputs": [
    {
     "data": {
      "text/plain": [
       "'Cycle_ID\\t\\tCap_Chg(mAh)\\t\\tCap_DChg(mAh)\\t\\tSpecific_Capacity-Chg(mAh/g)\\tSpecific_Capacity-Dchg(mAh/g)\\tChg/DChg_Efficiency(%)\\tEngy_Chg(mWh)\\t\\tEngy_DChg(mWh)\\t\\tREngy_Chg(mWh/g)\\tREngy_Dchg(mWh/g)\\tCC_Chg_Ratio(%)\\t\\tCC_Chg_Cap(mAh)\\t\\tPlat_Cap(mAh)\\t\\tPlat_Capacity_Density(mAh/g)\\tPlat_Cap_Efficiency(%)\\tPlat_Time(h:min:s.ms)\\tCapacity_Chg(F)\\t\\tCapacity_DChg(F)\\tIR(O)\\t\\t\\tMid_value_Voltage(mV)\\tDischarge_Fading_Ratio(%)\\tCharge_Time(h:min:s.ms)\\tDischarge_Time(h:min:s.ms)\\tCharge_IR(O)\\t\\tDischarge_IR(O)\\t\\tEnd_Temperature(°C)\\tNet_Cap_DChg(mAh)\\tNet_Engy_DChg(mWh)\\tEnergy_Efficiency(%)\\t\\n'"
      ]
     },
     "execution_count": 53,
     "metadata": {},
     "output_type": "execute_result"
    }
   ],
   "source": [
    "cyclabels"
   ]
  },
  {
   "cell_type": "code",
   "execution_count": 54,
   "metadata": {},
   "outputs": [
    {
     "data": {
      "text/plain": [
       "'Cycle_ID\\t\\tCap_Chg(mAh)\\t\\tCap_DChg(mAh)\\t\\tSpecific_Capacity-Chg(mAh/g)\\tSpecific_Capacity-Dchg(mAh/g)\\tChg/DChg_Efficiency(%)\\tEngy_Chg(mWh)\\t\\tEngy_DChg(mWh)\\t\\tREngy_Chg(mWh/g)\\tREngy_Dchg(mWh/g)\\tCC_Chg_Ratio(%)\\t\\tCC_Chg_Cap(mAh)\\t\\tPlat_Cap(mAh)\\t\\tPlat_Capacity_Density(mAh/g)\\tPlat_Cap_Efficiency(%)\\tPlat_Time(h:min:s.ms)\\tCapacity_Chg(F)\\t\\tCapacity_DChg(F)\\tIR(O)\\t\\t\\tMid_value_Voltage(mV)\\tDischarge_Fading Ratio(%)\\tCharge_Time(h:min:s.ms)\\tDischarge_Time(h:min:s.ms)\\tCharge_IR(O)\\t\\tDischarge_IR(O)\\t\\tEnd_Temperature(°C)\\tNet_Cap_DChg(mAh)\\tNet_Engy_DChg(mWh)\\tEnergy_Efficiency(%)\\t\\n'"
      ]
     },
     "execution_count": 54,
     "metadata": {},
     "output_type": "execute_result"
    }
   ],
   "source": [
    "cyclabels2"
   ]
  },
  {
   "cell_type": "code",
   "execution_count": 6,
   "metadata": {},
   "outputs": [],
   "source": [
    "cyc, step, rec = read_raw('{}/RON_CYC_104481_Nw_c0_435V_40C_C3C3_191028_FM_435V_211PES_54910_09_7.txt'.format(p))"
   ]
  },
  {
   "cell_type": "code",
   "execution_count": 97,
   "metadata": {},
   "outputs": [
    {
     "name": "stdout",
     "output_type": "stream",
     "text": [
      "{'Record_ID': None, 'Time': 'h:min:s.ms', 'Voltage': 'mV', 'Current': 'mA', 'Temperature': 'oC', 'Capacity': 'mAh', 'Capacity_Density': 'mAh/g', 'Energy': 'mWh', 'CmpEng': 'mWh/g', 'Realtime': None, 'Min-T': 'oC', 'Max-T': 'oC', 'Avg-T': 'oC', 'Power': 'mW', 'Capacitance_Chg': 'mAh', 'Capacitance_DChg': 'mAh', 'Engy_Chg': 'mWh', 'Engy_DChg': 'mWh'}\n",
      "y\n"
     ]
    }
   ],
   "source": [
    "f3 = '{}/RON_CYC_104899_Nw_c0_444V_20C_C3C5C20_191210_FM47V_UmicoreLNMC_PES211_11_4_9_215.txt'.format(p)\n",
    "with open(f3, 'r', encoding='windows-1250') as f:\n",
    "    lines = f.readlines()\n",
    "cyclabels = re.sub(r'(\\w+) (\\w+)', r'\\1_\\2', lines[0])\n",
    "cyclabels = re.sub(r'(\\w+) (\\w+)', r'\\1_\\2', cyclabels)\n",
    "cyclabels = re.sub(r' ', r'', cyclabels)\n",
    "clabels = cyclabels.strip().split()\n",
    "cyclnlen = len(clabels)\n",
    "steplabels = re.sub(r'(\\w+) (\\w+)', r'\\1_\\2', lines[1])\n",
    "steplabels = re.sub(r'(\\w+) (\\w+)', r'\\1_\\2', steplabels)\n",
    "steplabels = re.sub(r' ', r'', steplabels)\n",
    "slabels = steplabels.strip().split()\n",
    "steplnlen = len(slabels)\n",
    "reclabels = re.sub(r'(\\w+) (\\w+)', r'\\1_\\2', lines[2])\n",
    "reclabels = re.sub(r'(\\w+) (\\w+)', r'\\1_\\2', reclabels)\n",
    "reclabels = re.sub(r' ', r'', reclabels)\n",
    "rlabels = reclabels.strip().split()\n",
    "reclnlen = len(rlabels)\n",
    "\n",
    "#print(clabels)\n",
    "#print('Cycle line length: {}'.format(cyclnlen))\n",
    "#print(slabels)\n",
    "#print('Step line length: {}'.format(steplnlen))\n",
    "#print(rlabels)\n",
    "#print('Record line length: {}'.format(reclnlen))\n",
    "\n",
    "units = dict()\n",
    "for l in rlabels:\n",
    "    try:\n",
    "        m = re.search(r'\\(.*\\)', l)\n",
    "        #print(l[m.start()+1:m.end()-1])\n",
    "        newlab = l[:m.start()]\n",
    "        units[newlab] = l[m.start()+1:m.end()-1]\n",
    "    except:\n",
    "        units[l] = None\n",
    "        #print('No units found.')\n",
    "print(units)\n",
    "if 'Voltage' in units:\n",
    "    "
   ]
  },
  {
   "cell_type": "code",
   "execution_count": null,
   "metadata": {},
   "outputs": [],
   "source": []
  }
 ],
 "metadata": {
  "kernelspec": {
   "display_name": "Python 3 (Spyder)",
   "language": "python3",
   "name": "python3"
  },
  "language_info": {
   "codemirror_mode": {
    "name": "ipython",
    "version": 3
   },
   "file_extension": ".py",
   "mimetype": "text/x-python",
   "name": "python",
   "nbconvert_exporter": "python",
   "pygments_lexer": "ipython3",
   "version": "3.7.4"
  }
 },
 "nbformat": 4,
 "nbformat_minor": 2
}
